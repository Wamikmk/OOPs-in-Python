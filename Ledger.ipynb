{
  "nbformat": 4,
  "nbformat_minor": 0,
  "metadata": {
    "colab": {
      "provenance": [],
      "authorship_tag": "ABX9TyNYzBtKG6SwTEyMcTY5MPPO",
      "include_colab_link": true
    },
    "kernelspec": {
      "name": "python3",
      "display_name": "Python 3"
    },
    "language_info": {
      "name": "python"
    }
  },
  "cells": [
    {
      "cell_type": "markdown",
      "metadata": {
        "id": "view-in-github",
        "colab_type": "text"
      },
      "source": [
        "<a href=\"https://colab.research.google.com/github/Wamikmk/OOPs-in-Python/blob/main/Ledger.ipynb\" target=\"_parent\"><img src=\"https://colab.research.google.com/assets/colab-badge.svg\" alt=\"Open In Colab\"/></a>"
      ]
    },
    {
      "cell_type": "markdown",
      "source": [
        "# Buiding a Simple Ledger Using OOPSs in Python.\n",
        "\n",
        "### The ledger contains a menu, which allows you a user to create a account by making an object of the class Ledger.\n",
        "\n",
        " `myAccount = Ledger()`\n",
        "\n",
        " ### Once you create an account, you have access to methods like deposit, withdraw and check balance.\n",
        "\n"
      ],
      "metadata": {
        "id": "H62cz6ApjZBz"
      }
    },
    {
      "cell_type": "code",
      "source": [
        "class Ledger:\n",
        "  def __init__(self):\n",
        "    self.pin = ''\n",
        "    self.balance = 0\n",
        "\n",
        "    self.menu()\n",
        "\n",
        "\n",
        "  def menu(self):\n",
        "    user_input = input(\"\"\"\n",
        "                  1. Enter 1 to Create Pin.\n",
        "                  2. Enter 2 to deposit.\n",
        "                  3. Enter 3 to withdraw.\n",
        "                  4. Enter 4 to check balance.\n",
        "                  5. Enter 5 to exit.\n",
        "\n",
        "\"\"\")\n",
        "\n",
        "    if user_input == '1':\n",
        "      self.create_pin()\n",
        "    elif user_input == '2':\n",
        "      self.deposit()\n",
        "    elif user_input == '3':\n",
        "      self.withdraw()\n",
        "    elif user_input == '4':\n",
        "      self.check_balance()\n",
        "    else:\n",
        "      print(\"Have a Good Time\")\n",
        "\n",
        "  def create_pin(self):\n",
        "    self.pin = input(\"Enter Your Pin: \")\n",
        "    print(\"Pin set Succesfully\")\n",
        "    self.menu()\n",
        "\n",
        "  def deposit(self):\n",
        "    temp = input(\"Enter Your pin: \")\n",
        "    if temp == self.pin:\n",
        "      amount = int(input(\"Enter amount: \"))\n",
        "      self.balance = self.balance + amount\n",
        "      print(\"Deposit Successful\")\n",
        "    else:\n",
        "      print(\"Invalid Pin\")\n",
        "\n",
        "    self.menu()\n",
        "\n",
        "  def withdraw(self):\n",
        "    temp = input('Enter Pin: ')\n",
        "    if temp == self.pin:\n",
        "      amount = int(input(\"Enter amount: \"))\n",
        "\n",
        "      if amount < self.balance:\n",
        "        self.balance = self.balance - amount\n",
        "        print(\"Withdraw Successful\")\n",
        "      else:\n",
        "        print(\"Insufficient Balance\")\n",
        "    else:\n",
        "      print(\"Invalid Pin\")\n",
        "    self.menu()\n",
        "\n",
        "  def check_balance(self):\n",
        "    temp = input(\"Enter Pin: \")\n",
        "    if temp == self.pin:\n",
        "      print(self.balance)\n",
        "    else:\n",
        "      print(\"Invalid Pin\")\n",
        "    self.menu()"
      ],
      "metadata": {
        "id": "Fgc9d8SnjmuW"
      },
      "execution_count": null,
      "outputs": []
    },
    {
      "cell_type": "code",
      "source": [
        "customer1 = Ledger()"
      ],
      "metadata": {
        "id": "ij5h--USkULg"
      },
      "execution_count": null,
      "outputs": []
    }
  ]
}